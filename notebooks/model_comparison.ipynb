{
  "cells": [
    {
      "cell_type": "raw",
      "metadata": {
        "vscode": {
          "languageId": "raw"
        }
      },
      "source": [
        "# Сравнение LDA и BERTopic моделей\n",
        "\n",
        "Этот notebook содержит загрузку обученных моделей, вычисление метрик качества и создание итоговых визуализаций для сравнения.\n"
      ]
    }
  ],
  "metadata": {
    "language_info": {
      "name": "python"
    }
  },
  "nbformat": 4,
  "nbformat_minor": 2
}
