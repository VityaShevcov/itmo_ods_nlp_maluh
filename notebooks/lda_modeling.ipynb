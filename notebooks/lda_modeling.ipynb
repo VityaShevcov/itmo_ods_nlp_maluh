{
  "cells": [
    {
      "cell_type": "raw",
      "metadata": {
        "vscode": {
          "languageId": "raw"
        }
      },
      "source": [
        "# LDA Тематическое моделирование\n",
        "\n",
        "Этот notebook содержит подбор параметров и обучение LDA модели на предобработанных данных отзывов.\n"
      ]
    },
    {
      "cell_type": "code",
      "execution_count": null,
      "metadata": {},
      "outputs": [],
      "source": [
        "import sys\n",
        "sys.path.append('../src')\n",
        "\n",
        "import pandas as pd\n",
        "import numpy as np\n",
        "import matplotlib.pyplot as plt\n",
        "import pickle\n",
        "from lda_model import LDAModel, tune_lda_topics, compute_coherence\n",
        "from visualization import TopicVisualizer\n",
        "\n",
        "# загружаем предобработанные данные\n",
        "df = pd.read_csv('../data/processed/processed_reviews.csv')\n",
        "with open('../data/processed/processed_texts.pkl', 'rb') as f:\n",
        "    processed_texts = pickle.load(f)\n",
        "\n",
        "print(f\"Загружено {len(processed_texts)} документов для моделирования\")\n",
        "\n",
        "viz = TopicVisualizer()\n"
      ]
    }
  ],
  "metadata": {
    "language_info": {
      "name": "python"
    }
  },
  "nbformat": 4,
  "nbformat_minor": 2
}
